{
  "nbformat": 4,
  "nbformat_minor": 0,
  "metadata": {
    "colab": {
      "provenance": []
    },
    "kernelspec": {
      "name": "python3",
      "display_name": "Python 3"
    },
    "language_info": {
      "name": "python"
    }
  },
  "cells": [
    {
      "cell_type": "code",
      "execution_count": 8,
      "metadata": {
        "colab": {
          "base_uri": "https://localhost:8080/"
        },
        "id": "uKqsxhit7vL5",
        "outputId": "56a7c62c-886d-4175-a415-4371ebf88a4f"
      },
      "outputs": [
        {
          "output_type": "stream",
          "name": "stdout",
          "text": [
            "* \r\n",
            "* * \r\n",
            "* * * \r\n",
            "* * * * \r\n",
            "* * * * * \r\n",
            "* * * * \r\n",
            "* * * \r\n",
            "* * \r\n",
            "* \r\n",
            "\r\n"
          ]
        }
      ],
      "source": [
        "#question 1\n",
        "for i in range(0,5):\n",
        "  for j in range(0,i+1):\n",
        "    print(\"*\",end=\" \")\n",
        "  print(\"\\r\")\n",
        "for i in range(5,0,-1):\n",
        "  for j in range(0,i-1):\n",
        "    print(\"*\",end=\" \")\n",
        "  print(\"\\r\")"
      ]
    },
    {
      "cell_type": "code",
      "source": [
        "#question 2\n",
        "my_list= [10,20,30,40,50,60,70,80,90,100]\n",
        "n=len(my_list)\n",
        "for i in range (0,n):\n",
        "  if(i%2!=0):\n",
        "    print(my_list[i])"
      ],
      "metadata": {
        "colab": {
          "base_uri": "https://localhost:8080/"
        },
        "id": "79jN0xLY70U5",
        "outputId": "3f248b7e-fb3b-4bc2-b488-98f48a0bd177"
      },
      "execution_count": 9,
      "outputs": [
        {
          "output_type": "stream",
          "name": "stdout",
          "text": [
            "20\n",
            "40\n",
            "60\n",
            "80\n",
            "100\n"
          ]
        }
      ]
    },
    {
      "cell_type": "code",
      "source": [
        "#question 3\n",
        "x=[23, 'python',23.98]\n",
        "type_list=[]\n",
        "for i in x:\n",
        "  type_list.append(type(i))\n",
        "print(x)\n",
        "print(type_list)"
      ],
      "metadata": {
        "colab": {
          "base_uri": "https://localhost:8080/"
        },
        "id": "WkOfKzpT_JQU",
        "outputId": "d512fd9f-e503-4b58-a9e9-eda8a1aad02f"
      },
      "execution_count": 10,
      "outputs": [
        {
          "output_type": "stream",
          "name": "stdout",
          "text": [
            "[23, 'python', 23.98]\n",
            "[<class 'int'>, <class 'str'>, <class 'float'>]\n"
          ]
        }
      ]
    },
    {
      "cell_type": "code",
      "source": [
        "#question 4\n",
        "def unique_list(lst):\n",
        " return list(set (lst))\n",
        "lst= [1, 2, 3, 3, 3, 3, 4, 5]\n",
        "print(unique_list(lst))"
      ],
      "metadata": {
        "colab": {
          "base_uri": "https://localhost:8080/"
        },
        "id": "CCOl_IHD_JYF",
        "outputId": "5a21c0a7-83e0-42a4-bfae-fcfcd1c7a4d1"
      },
      "execution_count": 7,
      "outputs": [
        {
          "output_type": "stream",
          "name": "stdout",
          "text": [
            "[1, 2, 3, 4, 5]\n"
          ]
        }
      ]
    },
    {
      "cell_type": "code",
      "source": [
        "#question 5\n",
        "def count_case(string):\n",
        "    upper_count = 0\n",
        "    lower_count = 0\n",
        "    for char in string:\n",
        "        if char.isupper():\n",
        "            upper_count += 1\n",
        "        elif char.islower():\n",
        "            lower_count += 1\n",
        "    return \"No. of Upper-case characters: {} No. of Lower-case Characters: {}\".format(upper_count, lower_count)\n",
        "print(count_case(\"The quick Brow Fox\"))\n",
        "\n"
      ],
      "metadata": {
        "colab": {
          "base_uri": "https://localhost:8080/"
        },
        "id": "MWPOWyYwMH26",
        "outputId": "46e4a1cb-7f40-4b93-ff7a-7114268485a2"
      },
      "execution_count": 13,
      "outputs": [
        {
          "output_type": "stream",
          "name": "stdout",
          "text": [
            "No. of Upper-case characters: 3 No. of Lower-case Characters: 12\n"
          ]
        }
      ]
    }
  ]
}