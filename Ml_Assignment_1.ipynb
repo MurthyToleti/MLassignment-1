{
  "nbformat": 4,
  "nbformat_minor": 0,
  "metadata": {
    "colab": {
      "provenance": []
    },
    "kernelspec": {
      "name": "python3",
      "display_name": "Python 3"
    },
    "language_info": {
      "name": "python"
    }
  },
  "cells": [
    {
      "cell_type": "code",
      "execution_count": 1,
      "metadata": {
        "id": "1yziw7KnNbgl",
        "colab": {
          "base_uri": "https://localhost:8080/"
        },
        "outputId": "60e652a5-a666-4ee1-f8f7-ffb19572de00"
      },
      "outputs": [
        {
          "output_type": "stream",
          "name": "stdout",
          "text": [
            "Sorted list is : [19, 19, 20, 22, 24, 24, 24, 25, 25, 26]\n",
            "minimum value is: 19\n",
            "Maximum value is: 26\n",
            "After adding min and max again to the list: [19, 19, 20, 22, 24, 24, 24, 25, 25, 26, 19, 26]\n",
            "Median of the list is: 24 and 24\n",
            "Average of the ages list is 22.75\n",
            "Range of the ages list is 7\n"
          ]
        }
      ],
      "source": [
        "#Question 1\n",
        "ages=[19,22,19,24,20,25,26,24,25,24]\n",
        "ages.sort()\n",
        "print(\"Sorted list is :\",ages)\n",
        "Min=min(ages)\n",
        "print(\"minimum value is:\",Min)\n",
        "Max=max(ages)\n",
        "print(\"Maximum value is:\",Max)\n",
        "ages.append(Min)\n",
        "ages.append(Max)\n",
        "print(\"After adding min and max again to the list:\",ages)\n",
        "ages.sort()\n",
        "n=len(ages)\n",
        "#n is the number of entities in the list\n",
        "if(n%2!=0):\n",
        "    print(\"median of the list is:\",ages[(n+1)/2])\n",
        "else:\n",
        "    print(\"Median of the list is:\",ages[int(n/2)],\"and\",ages[int((n/2)+1)])\n",
        "Average=sum(ages)/n\n",
        "print(\"Average of the ages list is\",Average)\n",
        "Range=Max-Min\n",
        "print(\"Range of the ages list is\",Range)"
      ]
    },
    {
      "cell_type": "code",
      "source": [
        "#Question 2\n",
        "dog={}\n",
        "dog['name']='tommy'\n",
        "dog['color']='white'\n",
        "dog['breed']='siberian husky'\n",
        "dog['legs']=4\n",
        "dog['age']=5\n",
        "print('key value pairs of dog dictionary',dog)\n",
        "student={'firstname':'Ajay','lastname':'Elika','gender':'male','age':21,'maritial status':'single','skills':['C++','Python','Java','Html'],'country':'India','city':'Guntur','address':'2-6 Thimmapuram Andhrapadesh 522233'}\n",
        "print('Student Dictionary:',student)\n",
        "print('length of Student dictionary:',len(student))\n",
        "print('Value of skills in student dictionary',student['skills'])\n",
        "print('type of value of skills in student:',type(student['skills']))\n",
        "student['skills'].append('css')\n",
        "student['skills'].append('Javascript')\n",
        "print('values of skills in student:',student['skills'])\n",
        "x=list(student.keys())\n",
        "#x is the list of keys in student\n",
        "print('keys of dictionary student in lists:',x,'type=',type(x))\n",
        "y=list(dog.keys())\n",
        "#y is the list of keys in dog\n",
        "print('keys of dictionary dog in lists:',y,'type=',type(y))\n",
        "m=list(student.values())\n",
        "#m is the list of values in student\n",
        "print('values of dictionary student in lists:',m,'type=',type(m))\n",
        "n=list(dog.values())\n",
        "#n is the list of values in dog\n",
        "print('values of dictionary dog in lists:',n,'type=',type(n))"
      ],
      "metadata": {
        "colab": {
          "base_uri": "https://localhost:8080/"
        },
        "id": "TV8-0cz4QWrH",
        "outputId": "5d4df6cb-5c59-4dbd-aca0-56d48b7c4bf5"
      },
      "execution_count": 2,
      "outputs": [
        {
          "output_type": "stream",
          "name": "stdout",
          "text": [
            "key value pairs of dog dictionary {'name': 'tommy', 'color': 'white', 'breed': 'siberian husky', 'legs': 4, 'age': 5}\n",
            "Student Dictionary: {'firstname': 'Ajay', 'lastname': 'Elika', 'gender': 'male', 'age': 21, 'maritial status': 'single', 'skills': ['C++', 'Python', 'Java', 'Html'], 'country': 'India', 'city': 'Guntur', 'address': '2-6 Thimmapuram Andhrapadesh 522233'}\n",
            "length of Student dictionary: 9\n",
            "Value of skills in student dictionary ['C++', 'Python', 'Java', 'Html']\n",
            "type of value of skills in student: <class 'list'>\n",
            "values of skills in student: ['C++', 'Python', 'Java', 'Html', 'css', 'Javascript']\n",
            "keys of dictionary student in lists: ['firstname', 'lastname', 'gender', 'age', 'maritial status', 'skills', 'country', 'city', 'address'] type= <class 'list'>\n",
            "keys of dictionary dog in lists: ['name', 'color', 'breed', 'legs', 'age'] type= <class 'list'>\n",
            "values of dictionary student in lists: ['Ajay', 'Elika', 'male', 21, 'single', ['C++', 'Python', 'Java', 'Html', 'css', 'Javascript'], 'India', 'Guntur', '2-6 Thimmapuram Andhrapadesh 522233'] type= <class 'list'>\n",
            "values of dictionary dog in lists: ['tommy', 'white', 'siberian husky', 4, 5] type= <class 'list'>\n"
          ]
        }
      ]
    },
    {
      "cell_type": "code",
      "source": [
        "#Question 3\n",
        "sisters=('MLC','Raji','Surya')\n",
        "print('sisters:',sisters)\n",
        "brothers=('ajay','nagarjuna','pratap')\n",
        "print('brothers:',brothers)\n",
        "siblings=sisters+brothers\n",
        "print('Siblings tuple:',siblings)\n",
        "print('number of siblings:',len(siblings))\n",
        "siblings=list(siblings)\n",
        "siblings.append('Sreekanth')\n",
        "#my father name is Sreekanth\n",
        "siblings.append('Katyani')\n",
        "#my mother name is Katyani\n",
        "familymembers=tuple(siblings)\n",
        "print('family members:',familymembers)"
      ],
      "metadata": {
        "colab": {
          "base_uri": "https://localhost:8080/"
        },
        "id": "soABLJBrQn5w",
        "outputId": "00bebee8-47fb-432f-8d8b-951c0a3fe12d"
      },
      "execution_count": 4,
      "outputs": [
        {
          "output_type": "stream",
          "name": "stdout",
          "text": [
            "sisters: ('MLC', 'Raji', 'Surya')\n",
            "brothers: ('ajay', 'nagarjuna', 'pratap')\n",
            "Siblings tuple: ('MLC', 'Raji', 'Surya', 'ajay', 'nagarjuna', 'pratap')\n",
            "number of siblings: 6\n",
            "family members: ('MLC', 'Raji', 'Surya', 'ajay', 'nagarjuna', 'pratap', 'Sreekanth', 'Katyani')\n"
          ]
        }
      ]
    },
    {
      "cell_type": "code",
      "source": [
        "#Question 4\n",
        "it_companies = {'Facebook', 'Google', 'Microsoft', 'Apple', 'IBM', 'Oracle', 'Amazon'} \n",
        "A = {19, 22, 24, 20, 25, 26}\n",
        "B = {19, 22, 20, 25, 26, 24, 28, 27}\n",
        "age = [22, 19, 24, 25, 26, 24, 25, 24]\n",
        "print('length of set it_companies:',len(it_companies))\n",
        "it_companies.add('Twitter')\n",
        "print(it_companies)\n",
        "it_companies.update(['Tesla','Instagram'])\n",
        "print(it_companies)\n",
        "it_companies.remove('IBM')\n",
        "print(it_companies)\n",
        "#Difference between discard and remove\n",
        "it_companies.discard('IBM')\n",
        "it_companies.discard('Oracle')\n",
        "print(it_companies)\n",
        "#discard and remove both are used to remove value in a set and the difference between discard and remove is discard does not give error\n",
        "#when the value is not present where as remove gives error\n",
        "C=A.union(B)\n",
        "print('Joining of A and B',C)\n",
        "D=A.intersection(B)\n",
        "print('Intersection of A and B',D)\n",
        "print('is A subset of B',A.issubset(B))\n",
        "print('Are A and B disjoint sets:',A.isdisjoint(B))\n",
        "A.update(B)\n",
        "print('joining A with B',A)\n",
        "B.update(A)\n",
        "print('Joining B with A',B)\n",
        "Diff=A.symmetric_difference(B)\n",
        "#set() value output represent empty or null value\n",
        "print('#set() value output represent empty or null value')\n",
        "print('Symmetric_difference of A and B:',Diff)\n",
        "it_companies.clear()\n",
        "A.clear()\n",
        "B.clear()\n",
        "print('After deletion of all the values in the sets A,B,it_companies',A,B,it_companies)\n",
        "#set() value output represent empty or null value\n",
        "l1=len(age)\n",
        "print('length of list age:',l1)\n",
        "#l1 is length of the list age\n",
        "l2=len(set(age))\n",
        "print('length of set age:',l2)\n",
        "#l2 is length of the set age\n",
        "print('Length of the set is 5 because a set doesnot have any duplicate entries and list can have duplicate values so its length is 8')"
      ],
      "metadata": {
        "colab": {
          "base_uri": "https://localhost:8080/"
        },
        "id": "Qb1MfUwIRhtw",
        "outputId": "ed47aeb9-5338-436d-9b30-3926677539bd"
      },
      "execution_count": 5,
      "outputs": [
        {
          "output_type": "stream",
          "name": "stdout",
          "text": [
            "length of set it_companies: 7\n",
            "{'Google', 'Apple', 'Oracle', 'Microsoft', 'IBM', 'Amazon', 'Twitter', 'Facebook'}\n",
            "{'Google', 'Apple', 'Tesla', 'Oracle', 'Instagram', 'Microsoft', 'IBM', 'Amazon', 'Twitter', 'Facebook'}\n",
            "{'Google', 'Apple', 'Tesla', 'Oracle', 'Instagram', 'Microsoft', 'Amazon', 'Twitter', 'Facebook'}\n",
            "{'Google', 'Apple', 'Tesla', 'Instagram', 'Microsoft', 'Amazon', 'Twitter', 'Facebook'}\n",
            "Joining of A and B {19, 20, 22, 24, 25, 26, 27, 28}\n",
            "Intersection of A and B {19, 20, 22, 24, 25, 26}\n",
            "is A subset of B True\n",
            "Are A and B disjoint sets: False\n",
            "joining A with B {19, 20, 22, 24, 25, 26, 27, 28}\n",
            "Joining B with A {19, 20, 22, 24, 25, 26, 27, 28}\n",
            "#set() value output represent empty or null value\n",
            "Symmetric_difference of A and B: set()\n",
            "After deletion of all the values in the sets A,B,it_companies set() set() set()\n",
            "length of list age: 8\n",
            "length of set age: 5\n",
            "Length of the set is 5 because a set doesnot have any duplicate entries and list can have duplicate values so its length is 8\n"
          ]
        }
      ]
    },
    {
      "cell_type": "code",
      "source": [
        "#Question 5\n",
        "radius=float(30)\n",
        "_area_of_circle_=((22/7)*radius*radius)\n",
        "print('area of circle is:',_area_of_circle_)\n",
        "_circum_of_circle_=2*(22/7)*radius\n",
        "print('circumference of th circle is:',_circum_of_circle_)\n",
        "#Calculating area with input radius\n",
        "print('Taking radius as input from user ')\n",
        "radii=float(input('Enter radius of a circle:'))\n",
        "area=((22/7)*radii*radii)\n",
        "print('area of circle with user inputed radius is:',area)"
      ],
      "metadata": {
        "colab": {
          "base_uri": "https://localhost:8080/"
        },
        "id": "ifo2L9EXQ0o7",
        "outputId": "f9621676-5cca-4197-8365-39d95757b244"
      },
      "execution_count": 6,
      "outputs": [
        {
          "output_type": "stream",
          "name": "stdout",
          "text": [
            "area of circle is: 2828.5714285714284\n",
            "circumference of th circle is: 188.57142857142856\n",
            "Taking radius as input from user \n",
            "Enter radius of a circle:50\n",
            "area of circle with user inputed radius is: 7857.142857142857\n"
          ]
        }
      ]
    },
    {
      "cell_type": "code",
      "source": [
        "#Question 6\n",
        "inp='I am a teacher and I love to inspire and teach people'\n",
        "#inp is the given string\n",
        "words=inp.split(' ')\n",
        "#splitting the words and adding them into words list\n",
        "print(words)\n",
        "uniq=set(words)\n",
        "#sets does not allow data duplicates\n",
        "print(uniq)\n",
        "print('length of the unique words in the given sentence is:',len(uniq))"
      ],
      "metadata": {
        "colab": {
          "base_uri": "https://localhost:8080/"
        },
        "id": "JfzXnQRGRzL6",
        "outputId": "040d57eb-1195-4094-fdc1-ccaaf960fdf5"
      },
      "execution_count": 7,
      "outputs": [
        {
          "output_type": "stream",
          "name": "stdout",
          "text": [
            "['I', 'am', 'a', 'teacher', 'and', 'I', 'love', 'to', 'inspire', 'and', 'teach', 'people']\n",
            "{'love', 'I', 'inspire', 'people', 'am', 'a', 'teach', 'and', 'to', 'teacher'}\n",
            "length of the unique words in the given sentence is: 10\n"
          ]
        }
      ]
    },
    {
      "cell_type": "code",
      "source": [
        "#Question 7\n",
        "print('Name\\tAge\\tCountry\\tCity')\n",
        "print('Asabeneh\\t250\\tFinland\\tHelsinki')\n",
        "     "
      ],
      "metadata": {
        "colab": {
          "base_uri": "https://localhost:8080/"
        },
        "id": "U-lgsMOuSC2F",
        "outputId": "419ee5ea-d25d-4e14-d7a7-c2ad7af49e60"
      },
      "execution_count": 8,
      "outputs": [
        {
          "output_type": "stream",
          "name": "stdout",
          "text": [
            "Name\tAge\tCountry\tCity\n",
            "Asabeneh\t250\tFinland\tHelsinki\n"
          ]
        }
      ]
    },
    {
      "cell_type": "code",
      "source": [
        "#Question 8\n",
        "radius=float(10)\n",
        "area=(3.14)*radius**2\n",
        "string='The area of the circle with radius {0} is {1} meters square'.format(radius,area)\n",
        "#using string formating printing out the area of the circle\n",
        "print(string)"
      ],
      "metadata": {
        "colab": {
          "base_uri": "https://localhost:8080/"
        },
        "id": "wsfbdqLQSU9S",
        "outputId": "89084c71-b345-479c-84fd-9b354cb27ae0"
      },
      "execution_count": 9,
      "outputs": [
        {
          "output_type": "stream",
          "name": "stdout",
          "text": [
            "The area of the circle with radius 10.0 is 314.0 meters square\n"
          ]
        }
      ]
    },
    {
      "cell_type": "code",
      "source": [
        "#Question 9\n",
        "N=int(input('Number of students:'))\n",
        "lbs=[]\n",
        "print('Enter weights in lbs:\\t')\n",
        "for i in range(N):\n",
        "    lbs.append(float(input()))\n",
        "print('Weights of students in lbs:\\t',lbs)\n",
        "kilos=[]\n",
        "for i in lbs:\n",
        "    kilos.append(round(float(i)*(0.45359237),3))\n",
        "print('Weights of the students in kilos:',kilos)\n",
        "     "
      ],
      "metadata": {
        "colab": {
          "base_uri": "https://localhost:8080/"
        },
        "id": "2gZFgcNNSZWq",
        "outputId": "0100775c-82cf-4868-d8ce-660d60881778"
      },
      "execution_count": 10,
      "outputs": [
        {
          "output_type": "stream",
          "name": "stdout",
          "text": [
            "Number of students:4\n",
            "Enter weights in lbs:\t\n",
            "200\n",
            "210\n",
            "150\n",
            "160\n",
            "Weights of students in lbs:\t [200.0, 210.0, 150.0, 160.0]\n",
            "Weights of the students in kilos: [90.718, 95.254, 68.039, 72.575]\n"
          ]
        }
      ]
    }
  ]
}